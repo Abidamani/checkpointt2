{
 "cells": [
  {
   "cell_type": "code",
   "execution_count": 4,
   "id": "64c63da8-5316-47cd-a95f-b4b73989a780",
   "metadata": {},
   "outputs": [
    {
     "name": "stdin",
     "output_type": "stream",
     "text": [
      "taper votre name   : amani\n",
      "taper votre prenom :  abidi\n"
     ]
    },
    {
     "name": "stdout",
     "output_type": "stream",
     "text": [
      "abidi   ***** amani\n"
     ]
    }
   ],
   "source": [
    "fname= input(\"taper votre name   :\") #Question1\n",
    "lname= input(\"taper votre prenom : \")\n",
    "print(lname+\"   ***** \"+fname) "
   ]
  },
  {
   "cell_type": "code",
   "execution_count": 13,
   "id": "46abc5b4-15c8-4d5c-b7e6-e826240447c8",
   "metadata": {},
   "outputs": [
    {
     "name": "stdin",
     "output_type": "stream",
     "text": [
      "Input an integer  : 5\n"
     ]
    },
    {
     "name": "stdout",
     "output_type": "stream",
     "text": [
      "615\n"
     ]
    }
   ],
   "source": [
    "n=int(input(\"Input an integer  :\")) #Question2\n",
    "nn=n*11\n",
    "nnn=n*111\n",
    "print(n+nn+nnn)"
   ]
  },
  {
   "cell_type": "code",
   "execution_count": 2,
   "id": "cd566f96-92f9-4ece-8839-673fee0b51a4",
   "metadata": {},
   "outputs": [
    {
     "name": "stdout",
     "output_type": "stream",
     "text": [
      "Enter a number: 5\n",
      "This is an odd number.\n"
     ]
    }
   ],
   "source": [
    "num = int(input(\"Enter a number: \"))\n",
    "mod = num % 2\n",
    "if mod > 0:\n",
    "    print(\"This is an odd number.\")\n",
    "else:\n",
    "    print(\"This is an even number.\")"
   ]
  },
  {
   "cell_type": "code",
   "execution_count": 1,
   "id": "6433435c-7413-4bd1-9e2d-12f8194d4a99",
   "metadata": {},
   "outputs": [
    {
     "name": "stdout",
     "output_type": "stream",
     "text": [
      "2030,2065,2100,2135,2170,2205,2240,2275,2310,2345,2380,2415,2450,2485,2520,2555,2590,2625,2660,2695,2730,2765,2800,2835,2870,2905,2940,2975,3010,3045,3080,3115,3150,3185\n"
     ]
    }
   ],
   "source": [
    "nl=[]                                           #Question4\n",
    "for x in range(2000, 3200):\n",
    "    if (x%7==0) and (x%5==0):\n",
    "        nl.append(str(x))\n",
    "print (','.join(nl))\n"
   ]
  },
  {
   "cell_type": "code",
   "execution_count": 4,
   "id": "91c10c59",
   "metadata": {},
   "outputs": [
    {
     "name": "stdout",
     "output_type": "stream",
     "text": [
      "\n",
      "Factorial of 4:  24\n",
      "\n",
      "Factorial of 8:  40320\n",
      "\n",
      "Factorial of 1:  1\n",
      "\n",
      "Factorial of 0:  1\n"
     ]
    }
   ],
   "source": [
    "def factorial(n):                        #Question5\n",
    "  if not ((n >= 0) and (n % 1 == 0)):\n",
    "    return(\"Number can't be negative or floating point!\")\n",
    "  return 1 if n == 0 else n * factorial(n - 1)\n",
    "\n",
    "print(\"\\nFactorial of 4: \",factorial(4))\n",
    "print(\"\\nFactorial of 8: \",factorial(8))\n",
    "print(\"\\nFactorial of 1: \",factorial(1))\n",
    "print(\"\\nFactorial of 0: \",factorial(0))\n"
   ]
  },
  {
   "cell_type": "code",
   "execution_count": 6,
   "id": "5f8a29ef",
   "metadata": {},
   "outputs": [
    {
     "name": "stdout",
     "output_type": "stream",
     "text": [
      "hlota\n"
     ]
    }
   ],
   "source": [
    "def odd_values_string(str):                    #Question6\n",
    "  result = \"\" \n",
    "  for i in range(len(str)):\n",
    "    if i % 2 == 0:\n",
    "      result = result + str[i]\n",
    "  return result\n",
    "\n",
    "print(odd_values_string('hello team'))\n"
   ]
  },
  {
   "cell_type": "code",
   "execution_count": 1,
   "id": "e9dbcc12",
   "metadata": {},
   "outputs": [
    {
     "ename": "SyntaxError",
     "evalue": "invalid syntax (Temp/ipykernel_5064/4185998567.py, line 8)",
     "output_type": "error",
     "traceback": [
      "\u001b[1;36m  File \u001b[1;32m\"C:\\Users\\admin\\AppData\\Local\\Temp/ipykernel_5064/4185998567.py\"\u001b[1;36m, line \u001b[1;32m8\u001b[0m\n\u001b[1;33m    elif amt<:\u001b[0m\n\u001b[1;37m             ^\u001b[0m\n\u001b[1;31mSyntaxError\u001b[0m\u001b[1;31m:\u001b[0m invalid syntax\n"
     ]
    }
   ],
   "source": [
    "# input sale amount            #Question7\n",
    "amt = int(input(\"Enter Sale Amount: \"))\n",
    "\n",
    "# checking conditions and calculating discount\n",
    "if(amt>0):\n",
    "    if amt<=500:\n",
    "       disc = amt*0.05\n",
    "    elif amt<:\n",
    "        disc=amt*0.\n",
    "    elif amt<=:\n",
    "        disc=0.2 * amt\n",
    "    else:\n",
    "         disc=0.3 * amt\n",
    "\n",
    "    print(\"Discount : \",disc)\n",
    "    print(\"Net Pay  : \",amt-disc)\n",
    "else:\n",
    "    print(\"Invalid Amount\")\n",
    "\n"
   ]
  },
  {
   "cell_type": "code",
   "execution_count": null,
   "id": "a8947a15",
   "metadata": {},
   "outputs": [],
   "source": []
  }
 ],
 "metadata": {
  "kernelspec": {
   "display_name": "Python 3 (ipykernel)",
   "language": "python",
   "name": "python3"
  },
  "language_info": {
   "codemirror_mode": {
    "name": "ipython",
    "version": 3
   },
   "file_extension": ".py",
   "mimetype": "text/x-python",
   "name": "python",
   "nbconvert_exporter": "python",
   "pygments_lexer": "ipython3",
   "version": "3.9.7"
  }
 },
 "nbformat": 4,
 "nbformat_minor": 5
}
